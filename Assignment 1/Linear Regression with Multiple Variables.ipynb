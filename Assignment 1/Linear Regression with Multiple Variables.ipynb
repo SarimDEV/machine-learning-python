{
 "cells": [
  {
   "cell_type": "code",
   "execution_count": 1,
   "metadata": {},
   "outputs": [],
   "source": [
    "import numpy as np\n",
    "import matplotlib.pyplot as plt"
   ]
  },
  {
   "cell_type": "code",
   "execution_count": 2,
   "metadata": {},
   "outputs": [],
   "source": [
    "#Loading data and assigning variables\n",
    "\n",
    "data = np.loadtxt(\"ex1data2.txt\", comments=\"#\", delimiter=\",\")\n",
    "y = np.array([data[:, 2]]).T\n",
    "m = np.size(y)\n",
    "X = np.c_[ data[:, 0], data[:,1] ]\n",
    "theta = np.zeros((3,1))"
   ]
  },
  {
   "cell_type": "code",
   "execution_count": 3,
   "metadata": {},
   "outputs": [],
   "source": [
    "# Feature Normalization\n",
    "mu = np.mean(X, axis=0)\n",
    "sigma = np.std(X, axis=0)\n",
    "\n",
    "norm_X = np.divide((X - mu),sigma)\n",
    "\n",
    "X = np.c_[np.ones(m), norm_X[:,0], norm_X[:,1] ]"
   ]
  },
  {
   "cell_type": "code",
   "execution_count": 4,
   "metadata": {},
   "outputs": [
    {
     "name": "stdout",
     "output_type": "stream",
     "text": [
      "65591548106.45744\n"
     ]
    }
   ],
   "source": [
    "# Cost Function\n",
    "\n",
    "def costFunction(theta):\n",
    "    hypothesis = np.dot(X,theta)\n",
    "    squaredError = (hypothesis - y)**2\n",
    "    sumSquaredError = np.sum(squaredError)\n",
    "    J = 1/(2*m) * sumSquaredError\n",
    "    return(J)\n",
    "\n",
    "print(costFunction(theta))"
   ]
  },
  {
   "cell_type": "code",
   "execution_count": 5,
   "metadata": {},
   "outputs": [
    {
     "data": {
      "text/plain": [
       "array([[340412.65957447],\n",
       "       [109447.79646964],\n",
       "       [ -6578.35485416]])"
      ]
     },
     "execution_count": 5,
     "metadata": {},
     "output_type": "execute_result"
    }
   ],
   "source": [
    "# Gradient Descent\n",
    "\n",
    "iterations = 1500\n",
    "alpha = 0.1\n",
    "for i in range(iterations):\n",
    "    \n",
    "    beta = np.dot(X,theta)\n",
    "    delta = (1/m) * np.dot((beta - y).T, X)\n",
    "    theta = theta - (alpha * delta.T)\n",
    "    \n",
    "theta"
   ]
  },
  {
   "cell_type": "code",
   "execution_count": 6,
   "metadata": {},
   "outputs": [
    {
     "data": {
      "text/plain": [
       "array([293081.4643349])"
      ]
     },
     "execution_count": 6,
     "metadata": {},
     "output_type": "execute_result"
    }
   ],
   "source": [
    "# Using our algorithm\n",
    "def predictionFunction(squareFt, size):\n",
    "    prediction = np.dot([1, (squareFt-mu[0])/sigma[0], (size-mu[1])/sigma[1]], theta)\n",
    "    return (np.ndarray.item(prediction))\n",
    "\n",
    "predictionFunction(1650,3)"
   ]
  },
  {
   "cell_type": "code",
   "execution_count": 7,
   "metadata": {},
   "outputs": [
    {
     "data": {
      "text/plain": [
       "array([[340412.65957447],\n",
       "       [109447.79646964],\n",
       "       [ -6578.35485416]])"
      ]
     },
     "execution_count": 7,
     "metadata": {},
     "output_type": "execute_result"
    }
   ],
   "source": [
    "# Using the Normal Equation\n",
    "theta = 0\n",
    "\n",
    "theta = np.dot(np.dot(np.linalg.pinv(np.dot(X.T, X)), X.T),y)\n",
    "theta"
   ]
  },
  {
   "cell_type": "code",
   "execution_count": 8,
   "metadata": {},
   "outputs": [
    {
     "data": {
      "text/plain": [
       "array([293081.4643349])"
      ]
     },
     "execution_count": 8,
     "metadata": {},
     "output_type": "execute_result"
    }
   ],
   "source": [
    "predictionFunction(1650, 3)"
   ]
  },
  {
   "cell_type": "code",
   "execution_count": null,
   "metadata": {},
   "outputs": [],
   "source": [
    "# Now we know how much our house could sell for! :)"
   ]
  }
 ],
 "metadata": {
  "kernelspec": {
   "display_name": "Python 3",
   "language": "python",
   "name": "python3"
  },
  "language_info": {
   "codemirror_mode": {
    "name": "ipython",
    "version": 3
   },
   "file_extension": ".py",
   "mimetype": "text/x-python",
   "name": "python",
   "nbconvert_exporter": "python",
   "pygments_lexer": "ipython3",
   "version": "3.7.3"
  }
 },
 "nbformat": 4,
 "nbformat_minor": 2
}
